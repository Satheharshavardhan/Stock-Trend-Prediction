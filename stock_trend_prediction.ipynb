{
  "cells": [
    {
      "cell_type": "code",
      "execution_count": 1,
      "metadata": {
        "id": "DoULlGCmA40I"
      },
      "outputs": [],
      "source": [
        "import numpy as np\n",
        "import pandas as pd\n",
        "import matplotlib.pyplot as plt\n",
        "import yfinance as yf\n",
        "from datetime import datetime\n",
        "# from sklearn.model_selection import train_test_split\n",
        "from sklearn.preprocessing import MinMaxScaler"
      ]
    },
    {
      "cell_type": "code",
      "execution_count": 2,
      "metadata": {
        "id": "ID0MYCx5BDqt"
      },
      "outputs": [],
      "source": [
        "start_date = datetime(2010, 1, 1)\n",
        "end_date = datetime(2022, 12, 31)"
      ]
    },
    {
      "cell_type": "code",
      "execution_count": 3,
      "metadata": {
        "colab": {
          "base_uri": "https://localhost:8080/"
        },
        "id": "HgD0Iq1CBrtK",
        "outputId": "4619f36b-e07d-4885-d829-307657e3f2bd"
      },
      "outputs": [
        {
          "name": "stdout",
          "output_type": "stream",
          "text": [
            "[*********************100%%**********************]  1 of 1 completed\n"
          ]
        }
      ],
      "source": [
        "stock_data = yf.download('AAPL',start=start_date,end=end_date)"
      ]
    },
    {
      "cell_type": "code",
      "execution_count": 4,
      "metadata": {
        "colab": {
          "base_uri": "https://localhost:8080/",
          "height": 237
        },
        "id": "uVmRvS_VCU5Z",
        "outputId": "247388d6-b579-494b-a33f-82c7ddb41fb7"
      },
      "outputs": [
        {
          "data": {
            "text/html": [
              "<div>\n",
              "<style scoped>\n",
              "    .dataframe tbody tr th:only-of-type {\n",
              "        vertical-align: middle;\n",
              "    }\n",
              "\n",
              "    .dataframe tbody tr th {\n",
              "        vertical-align: top;\n",
              "    }\n",
              "\n",
              "    .dataframe thead th {\n",
              "        text-align: right;\n",
              "    }\n",
              "</style>\n",
              "<table border=\"1\" class=\"dataframe\">\n",
              "  <thead>\n",
              "    <tr style=\"text-align: right;\">\n",
              "      <th></th>\n",
              "      <th>Open</th>\n",
              "      <th>High</th>\n",
              "      <th>Low</th>\n",
              "      <th>Close</th>\n",
              "      <th>Adj Close</th>\n",
              "      <th>Volume</th>\n",
              "    </tr>\n",
              "    <tr>\n",
              "      <th>Date</th>\n",
              "      <th></th>\n",
              "      <th></th>\n",
              "      <th></th>\n",
              "      <th></th>\n",
              "      <th></th>\n",
              "      <th></th>\n",
              "    </tr>\n",
              "  </thead>\n",
              "  <tbody>\n",
              "    <tr>\n",
              "      <th>2010-01-04</th>\n",
              "      <td>7.622500</td>\n",
              "      <td>7.660714</td>\n",
              "      <td>7.585000</td>\n",
              "      <td>7.643214</td>\n",
              "      <td>6.478997</td>\n",
              "      <td>493729600</td>\n",
              "    </tr>\n",
              "    <tr>\n",
              "      <th>2010-01-05</th>\n",
              "      <td>7.664286</td>\n",
              "      <td>7.699643</td>\n",
              "      <td>7.616071</td>\n",
              "      <td>7.656429</td>\n",
              "      <td>6.490200</td>\n",
              "      <td>601904800</td>\n",
              "    </tr>\n",
              "    <tr>\n",
              "      <th>2010-01-06</th>\n",
              "      <td>7.656429</td>\n",
              "      <td>7.686786</td>\n",
              "      <td>7.526786</td>\n",
              "      <td>7.534643</td>\n",
              "      <td>6.386966</td>\n",
              "      <td>552160000</td>\n",
              "    </tr>\n",
              "    <tr>\n",
              "      <th>2010-01-07</th>\n",
              "      <td>7.562500</td>\n",
              "      <td>7.571429</td>\n",
              "      <td>7.466071</td>\n",
              "      <td>7.520714</td>\n",
              "      <td>6.375154</td>\n",
              "      <td>477131200</td>\n",
              "    </tr>\n",
              "    <tr>\n",
              "      <th>2010-01-08</th>\n",
              "      <td>7.510714</td>\n",
              "      <td>7.571429</td>\n",
              "      <td>7.466429</td>\n",
              "      <td>7.570714</td>\n",
              "      <td>6.417540</td>\n",
              "      <td>447610800</td>\n",
              "    </tr>\n",
              "  </tbody>\n",
              "</table>\n",
              "</div>"
            ],
            "text/plain": [
              "                Open      High       Low     Close  Adj Close     Volume\n",
              "Date                                                                    \n",
              "2010-01-04  7.622500  7.660714  7.585000  7.643214   6.478997  493729600\n",
              "2010-01-05  7.664286  7.699643  7.616071  7.656429   6.490200  601904800\n",
              "2010-01-06  7.656429  7.686786  7.526786  7.534643   6.386966  552160000\n",
              "2010-01-07  7.562500  7.571429  7.466071  7.520714   6.375154  477131200\n",
              "2010-01-08  7.510714  7.571429  7.466429  7.570714   6.417540  447610800"
            ]
          },
          "execution_count": 4,
          "metadata": {},
          "output_type": "execute_result"
        }
      ],
      "source": [
        "stock_data.head()"
      ]
    },
    {
      "cell_type": "code",
      "execution_count": 5,
      "metadata": {
        "colab": {
          "base_uri": "https://localhost:8080/",
          "height": 237
        },
        "id": "JqCfoZMeEgF2",
        "outputId": "c58ca413-6b24-4682-a584-2c3c5b7b7291"
      },
      "outputs": [
        {
          "data": {
            "text/html": [
              "<div>\n",
              "<style scoped>\n",
              "    .dataframe tbody tr th:only-of-type {\n",
              "        vertical-align: middle;\n",
              "    }\n",
              "\n",
              "    .dataframe tbody tr th {\n",
              "        vertical-align: top;\n",
              "    }\n",
              "\n",
              "    .dataframe thead th {\n",
              "        text-align: right;\n",
              "    }\n",
              "</style>\n",
              "<table border=\"1\" class=\"dataframe\">\n",
              "  <thead>\n",
              "    <tr style=\"text-align: right;\">\n",
              "      <th></th>\n",
              "      <th>Open</th>\n",
              "      <th>High</th>\n",
              "      <th>Low</th>\n",
              "      <th>Close</th>\n",
              "      <th>Adj Close</th>\n",
              "      <th>Volume</th>\n",
              "    </tr>\n",
              "    <tr>\n",
              "      <th>Date</th>\n",
              "      <th></th>\n",
              "      <th></th>\n",
              "      <th></th>\n",
              "      <th></th>\n",
              "      <th></th>\n",
              "      <th></th>\n",
              "    </tr>\n",
              "  </thead>\n",
              "  <tbody>\n",
              "    <tr>\n",
              "      <th>2022-12-23</th>\n",
              "      <td>130.919998</td>\n",
              "      <td>132.419998</td>\n",
              "      <td>129.639999</td>\n",
              "      <td>131.860001</td>\n",
              "      <td>131.127060</td>\n",
              "      <td>63814900</td>\n",
              "    </tr>\n",
              "    <tr>\n",
              "      <th>2022-12-27</th>\n",
              "      <td>131.380005</td>\n",
              "      <td>131.410004</td>\n",
              "      <td>128.720001</td>\n",
              "      <td>130.029999</td>\n",
              "      <td>129.307236</td>\n",
              "      <td>69007800</td>\n",
              "    </tr>\n",
              "    <tr>\n",
              "      <th>2022-12-28</th>\n",
              "      <td>129.669998</td>\n",
              "      <td>131.029999</td>\n",
              "      <td>125.870003</td>\n",
              "      <td>126.040001</td>\n",
              "      <td>125.339409</td>\n",
              "      <td>85438400</td>\n",
              "    </tr>\n",
              "    <tr>\n",
              "      <th>2022-12-29</th>\n",
              "      <td>127.989998</td>\n",
              "      <td>130.479996</td>\n",
              "      <td>127.730003</td>\n",
              "      <td>129.610001</td>\n",
              "      <td>128.889572</td>\n",
              "      <td>75703700</td>\n",
              "    </tr>\n",
              "    <tr>\n",
              "      <th>2022-12-30</th>\n",
              "      <td>128.410004</td>\n",
              "      <td>129.949997</td>\n",
              "      <td>127.430000</td>\n",
              "      <td>129.929993</td>\n",
              "      <td>129.207779</td>\n",
              "      <td>77034200</td>\n",
              "    </tr>\n",
              "  </tbody>\n",
              "</table>\n",
              "</div>"
            ],
            "text/plain": [
              "                  Open        High         Low       Close   Adj Close  \\\n",
              "Date                                                                     \n",
              "2022-12-23  130.919998  132.419998  129.639999  131.860001  131.127060   \n",
              "2022-12-27  131.380005  131.410004  128.720001  130.029999  129.307236   \n",
              "2022-12-28  129.669998  131.029999  125.870003  126.040001  125.339409   \n",
              "2022-12-29  127.989998  130.479996  127.730003  129.610001  128.889572   \n",
              "2022-12-30  128.410004  129.949997  127.430000  129.929993  129.207779   \n",
              "\n",
              "              Volume  \n",
              "Date                  \n",
              "2022-12-23  63814900  \n",
              "2022-12-27  69007800  \n",
              "2022-12-28  85438400  \n",
              "2022-12-29  75703700  \n",
              "2022-12-30  77034200  "
            ]
          },
          "execution_count": 5,
          "metadata": {},
          "output_type": "execute_result"
        }
      ],
      "source": [
        "stock_data.tail()"
      ]
    },
    {
      "cell_type": "code",
      "execution_count": 6,
      "metadata": {
        "id": "D6ujWZofEnxv"
      },
      "outputs": [],
      "source": [
        "stock_data = stock_data.reset_index()"
      ]
    },
    {
      "cell_type": "code",
      "execution_count": 7,
      "metadata": {
        "colab": {
          "base_uri": "https://localhost:8080/",
          "height": 206
        },
        "id": "-Yg_tJ8cE6ya",
        "outputId": "43ef4f1d-3ea7-4139-a4c4-40b365a0eb60"
      },
      "outputs": [
        {
          "data": {
            "text/html": [
              "<div>\n",
              "<style scoped>\n",
              "    .dataframe tbody tr th:only-of-type {\n",
              "        vertical-align: middle;\n",
              "    }\n",
              "\n",
              "    .dataframe tbody tr th {\n",
              "        vertical-align: top;\n",
              "    }\n",
              "\n",
              "    .dataframe thead th {\n",
              "        text-align: right;\n",
              "    }\n",
              "</style>\n",
              "<table border=\"1\" class=\"dataframe\">\n",
              "  <thead>\n",
              "    <tr style=\"text-align: right;\">\n",
              "      <th></th>\n",
              "      <th>Date</th>\n",
              "      <th>Open</th>\n",
              "      <th>High</th>\n",
              "      <th>Low</th>\n",
              "      <th>Close</th>\n",
              "      <th>Adj Close</th>\n",
              "      <th>Volume</th>\n",
              "    </tr>\n",
              "  </thead>\n",
              "  <tbody>\n",
              "    <tr>\n",
              "      <th>0</th>\n",
              "      <td>2010-01-04</td>\n",
              "      <td>7.622500</td>\n",
              "      <td>7.660714</td>\n",
              "      <td>7.585000</td>\n",
              "      <td>7.643214</td>\n",
              "      <td>6.478997</td>\n",
              "      <td>493729600</td>\n",
              "    </tr>\n",
              "    <tr>\n",
              "      <th>1</th>\n",
              "      <td>2010-01-05</td>\n",
              "      <td>7.664286</td>\n",
              "      <td>7.699643</td>\n",
              "      <td>7.616071</td>\n",
              "      <td>7.656429</td>\n",
              "      <td>6.490200</td>\n",
              "      <td>601904800</td>\n",
              "    </tr>\n",
              "    <tr>\n",
              "      <th>2</th>\n",
              "      <td>2010-01-06</td>\n",
              "      <td>7.656429</td>\n",
              "      <td>7.686786</td>\n",
              "      <td>7.526786</td>\n",
              "      <td>7.534643</td>\n",
              "      <td>6.386966</td>\n",
              "      <td>552160000</td>\n",
              "    </tr>\n",
              "    <tr>\n",
              "      <th>3</th>\n",
              "      <td>2010-01-07</td>\n",
              "      <td>7.562500</td>\n",
              "      <td>7.571429</td>\n",
              "      <td>7.466071</td>\n",
              "      <td>7.520714</td>\n",
              "      <td>6.375154</td>\n",
              "      <td>477131200</td>\n",
              "    </tr>\n",
              "    <tr>\n",
              "      <th>4</th>\n",
              "      <td>2010-01-08</td>\n",
              "      <td>7.510714</td>\n",
              "      <td>7.571429</td>\n",
              "      <td>7.466429</td>\n",
              "      <td>7.570714</td>\n",
              "      <td>6.417540</td>\n",
              "      <td>447610800</td>\n",
              "    </tr>\n",
              "  </tbody>\n",
              "</table>\n",
              "</div>"
            ],
            "text/plain": [
              "        Date      Open      High       Low     Close  Adj Close     Volume\n",
              "0 2010-01-04  7.622500  7.660714  7.585000  7.643214   6.478997  493729600\n",
              "1 2010-01-05  7.664286  7.699643  7.616071  7.656429   6.490200  601904800\n",
              "2 2010-01-06  7.656429  7.686786  7.526786  7.534643   6.386966  552160000\n",
              "3 2010-01-07  7.562500  7.571429  7.466071  7.520714   6.375154  477131200\n",
              "4 2010-01-08  7.510714  7.571429  7.466429  7.570714   6.417540  447610800"
            ]
          },
          "execution_count": 7,
          "metadata": {},
          "output_type": "execute_result"
        }
      ],
      "source": [
        "stock_data.head()"
      ]
    },
    {
      "cell_type": "code",
      "execution_count": 8,
      "metadata": {
        "colab": {
          "base_uri": "https://localhost:8080/",
          "height": 206
        },
        "id": "Mk5JTk9CE9hI",
        "outputId": "61bd603a-5b87-4860-8a8d-f104e8dc824f"
      },
      "outputs": [
        {
          "data": {
            "text/html": [
              "<div>\n",
              "<style scoped>\n",
              "    .dataframe tbody tr th:only-of-type {\n",
              "        vertical-align: middle;\n",
              "    }\n",
              "\n",
              "    .dataframe tbody tr th {\n",
              "        vertical-align: top;\n",
              "    }\n",
              "\n",
              "    .dataframe thead th {\n",
              "        text-align: right;\n",
              "    }\n",
              "</style>\n",
              "<table border=\"1\" class=\"dataframe\">\n",
              "  <thead>\n",
              "    <tr style=\"text-align: right;\">\n",
              "      <th></th>\n",
              "      <th>Date</th>\n",
              "      <th>Open</th>\n",
              "      <th>High</th>\n",
              "      <th>Low</th>\n",
              "      <th>Close</th>\n",
              "      <th>Adj Close</th>\n",
              "      <th>Volume</th>\n",
              "    </tr>\n",
              "  </thead>\n",
              "  <tbody>\n",
              "    <tr>\n",
              "      <th>3267</th>\n",
              "      <td>2022-12-23</td>\n",
              "      <td>130.919998</td>\n",
              "      <td>132.419998</td>\n",
              "      <td>129.639999</td>\n",
              "      <td>131.860001</td>\n",
              "      <td>131.127060</td>\n",
              "      <td>63814900</td>\n",
              "    </tr>\n",
              "    <tr>\n",
              "      <th>3268</th>\n",
              "      <td>2022-12-27</td>\n",
              "      <td>131.380005</td>\n",
              "      <td>131.410004</td>\n",
              "      <td>128.720001</td>\n",
              "      <td>130.029999</td>\n",
              "      <td>129.307236</td>\n",
              "      <td>69007800</td>\n",
              "    </tr>\n",
              "    <tr>\n",
              "      <th>3269</th>\n",
              "      <td>2022-12-28</td>\n",
              "      <td>129.669998</td>\n",
              "      <td>131.029999</td>\n",
              "      <td>125.870003</td>\n",
              "      <td>126.040001</td>\n",
              "      <td>125.339409</td>\n",
              "      <td>85438400</td>\n",
              "    </tr>\n",
              "    <tr>\n",
              "      <th>3270</th>\n",
              "      <td>2022-12-29</td>\n",
              "      <td>127.989998</td>\n",
              "      <td>130.479996</td>\n",
              "      <td>127.730003</td>\n",
              "      <td>129.610001</td>\n",
              "      <td>128.889572</td>\n",
              "      <td>75703700</td>\n",
              "    </tr>\n",
              "    <tr>\n",
              "      <th>3271</th>\n",
              "      <td>2022-12-30</td>\n",
              "      <td>128.410004</td>\n",
              "      <td>129.949997</td>\n",
              "      <td>127.430000</td>\n",
              "      <td>129.929993</td>\n",
              "      <td>129.207779</td>\n",
              "      <td>77034200</td>\n",
              "    </tr>\n",
              "  </tbody>\n",
              "</table>\n",
              "</div>"
            ],
            "text/plain": [
              "           Date        Open        High         Low       Close   Adj Close  \\\n",
              "3267 2022-12-23  130.919998  132.419998  129.639999  131.860001  131.127060   \n",
              "3268 2022-12-27  131.380005  131.410004  128.720001  130.029999  129.307236   \n",
              "3269 2022-12-28  129.669998  131.029999  125.870003  126.040001  125.339409   \n",
              "3270 2022-12-29  127.989998  130.479996  127.730003  129.610001  128.889572   \n",
              "3271 2022-12-30  128.410004  129.949997  127.430000  129.929993  129.207779   \n",
              "\n",
              "        Volume  \n",
              "3267  63814900  \n",
              "3268  69007800  \n",
              "3269  85438400  \n",
              "3270  75703700  \n",
              "3271  77034200  "
            ]
          },
          "execution_count": 8,
          "metadata": {},
          "output_type": "execute_result"
        }
      ],
      "source": [
        "stock_data.tail()"
      ]
    },
    {
      "cell_type": "code",
      "execution_count": 9,
      "metadata": {
        "id": "7mdff6wBFA0S"
      },
      "outputs": [],
      "source": [
        "stock_data.drop(['Date','Adj Close'],axis=1,inplace=True)"
      ]
    },
    {
      "cell_type": "code",
      "execution_count": 10,
      "metadata": {
        "colab": {
          "base_uri": "https://localhost:8080/",
          "height": 206
        },
        "id": "l9NDCA-QFYRd",
        "outputId": "4888aa45-4638-4544-8e47-e4e592aaeb7f"
      },
      "outputs": [
        {
          "data": {
            "text/html": [
              "<div>\n",
              "<style scoped>\n",
              "    .dataframe tbody tr th:only-of-type {\n",
              "        vertical-align: middle;\n",
              "    }\n",
              "\n",
              "    .dataframe tbody tr th {\n",
              "        vertical-align: top;\n",
              "    }\n",
              "\n",
              "    .dataframe thead th {\n",
              "        text-align: right;\n",
              "    }\n",
              "</style>\n",
              "<table border=\"1\" class=\"dataframe\">\n",
              "  <thead>\n",
              "    <tr style=\"text-align: right;\">\n",
              "      <th></th>\n",
              "      <th>Open</th>\n",
              "      <th>High</th>\n",
              "      <th>Low</th>\n",
              "      <th>Close</th>\n",
              "      <th>Volume</th>\n",
              "    </tr>\n",
              "  </thead>\n",
              "  <tbody>\n",
              "    <tr>\n",
              "      <th>0</th>\n",
              "      <td>7.622500</td>\n",
              "      <td>7.660714</td>\n",
              "      <td>7.585000</td>\n",
              "      <td>7.643214</td>\n",
              "      <td>493729600</td>\n",
              "    </tr>\n",
              "    <tr>\n",
              "      <th>1</th>\n",
              "      <td>7.664286</td>\n",
              "      <td>7.699643</td>\n",
              "      <td>7.616071</td>\n",
              "      <td>7.656429</td>\n",
              "      <td>601904800</td>\n",
              "    </tr>\n",
              "    <tr>\n",
              "      <th>2</th>\n",
              "      <td>7.656429</td>\n",
              "      <td>7.686786</td>\n",
              "      <td>7.526786</td>\n",
              "      <td>7.534643</td>\n",
              "      <td>552160000</td>\n",
              "    </tr>\n",
              "    <tr>\n",
              "      <th>3</th>\n",
              "      <td>7.562500</td>\n",
              "      <td>7.571429</td>\n",
              "      <td>7.466071</td>\n",
              "      <td>7.520714</td>\n",
              "      <td>477131200</td>\n",
              "    </tr>\n",
              "    <tr>\n",
              "      <th>4</th>\n",
              "      <td>7.510714</td>\n",
              "      <td>7.571429</td>\n",
              "      <td>7.466429</td>\n",
              "      <td>7.570714</td>\n",
              "      <td>447610800</td>\n",
              "    </tr>\n",
              "  </tbody>\n",
              "</table>\n",
              "</div>"
            ],
            "text/plain": [
              "       Open      High       Low     Close     Volume\n",
              "0  7.622500  7.660714  7.585000  7.643214  493729600\n",
              "1  7.664286  7.699643  7.616071  7.656429  601904800\n",
              "2  7.656429  7.686786  7.526786  7.534643  552160000\n",
              "3  7.562500  7.571429  7.466071  7.520714  477131200\n",
              "4  7.510714  7.571429  7.466429  7.570714  447610800"
            ]
          },
          "execution_count": 10,
          "metadata": {},
          "output_type": "execute_result"
        }
      ],
      "source": [
        "stock_data.head()"
      ]
    },
    {
      "cell_type": "code",
      "execution_count": 11,
      "metadata": {
        "colab": {
          "base_uri": "https://localhost:8080/",
          "height": 447
        },
        "id": "drXfXRi_Fa8h",
        "outputId": "8c95cb9f-a00e-4ba9-978d-11517bb66c2f"
      },
      "outputs": [
        {
          "data": {
            "text/plain": [
              "[<matplotlib.lines.Line2D at 0x1d02fbf2e50>]"
            ]
          },
          "execution_count": 11,
          "metadata": {},
          "output_type": "execute_result"
        },
        {
          "data": {
            "image/png": "[encoded data removed]",
            "text/plain": [
              "<Figure size 640x480 with 1 Axes>"
            ]
          },
          "metadata": {},
          "output_type": "display_data"
        }
      ],
      "source": [
        "plt.plot(stock_data['Close'])"
      ]
    },
    {
      "cell_type": "code",
      "execution_count": 12,
      "metadata": {
        "id": "tDaV9Uw4Fqmc"
      },
      "outputs": [],
      "source": [
        "ma100 = stock_data.Close.rolling(100).mean()"
      ]
    },
    {
      "cell_type": "code",
      "execution_count": 13,
      "metadata": {
        "colab": {
          "base_uri": "https://localhost:8080/",
          "height": 539
        },
        "id": "10ORBCpTGSNO",
        "outputId": "e2d7b525-f46e-4448-b57d-5c9638809f93"
      },
      "outputs": [
        {
          "data": {
            "text/plain": [
              "<matplotlib.legend.Legend at 0x1d02fb528d0>"
            ]
          },
          "execution_count": 13,
          "metadata": {},
          "output_type": "execute_result"
        },
        {
          "data": {
            "image/png": "[encoded data removed]",
            "text/plain": [
              "<Figure size 1200x600 with 1 Axes>"
            ]
          },
          "metadata": {},
          "output_type": "display_data"
        }
      ],
      "source": [
        "plt.figure(figsize=(12,6))\n",
        "plt.plot(stock_data['Close'])\n",
        "plt.plot(ma100,c = 'r')\n",
        "plt.legend(['Closing Price','ma100'])"
      ]
    },
    {
      "cell_type": "code",
      "execution_count": 14,
      "metadata": {
        "id": "dkGx6UeJGo8v"
      },
      "outputs": [],
      "source": [
        "ma200 = stock_data.Close.rolling(200).mean()"
      ]
    },
    {
      "cell_type": "code",
      "execution_count": 15,
      "metadata": {
        "colab": {
          "base_uri": "https://localhost:8080/",
          "height": 539
        },
        "id": "CzKjtsZwHL16",
        "outputId": "a7854d1c-3ee5-4189-eac4-c1cdd5fa5b98"
      },
      "outputs": [
        {
          "data": {
            "text/plain": [
              "<matplotlib.legend.Legend at 0x1d02fbb58d0>"
            ]
          },
          "execution_count": 15,
          "metadata": {},
          "output_type": "execute_result"
        },
        {
          "data": {
            "image/png": "[encoded data removed]",
            "text/plain": [
              "<Figure size 1200x600 with 1 Axes>"
            ]
          },
          "metadata": {},
          "output_type": "display_data"
        }
      ],
      "source": [
        "plt.figure(figsize=(12,6))\n",
        "plt.plot(stock_data['Close'])\n",
        "plt.plot(ma100,c = 'r')\n",
        "plt.plot(ma200,c = 'g')\n",
        "plt.legend(['Closing Price','ma100','ma200'])"
      ]
    },
    {
      "cell_type": "code",
      "execution_count": 16,
      "metadata": {
        "colab": {
          "base_uri": "https://localhost:8080/"
        },
        "id": "9s-3lgtnHWkc",
        "outputId": "b88a298a-3c11-4685-fea8-f8cba482e668"
      },
      "outputs": [
        {
          "data": {
            "text/plain": [
              "(3272, 5)"
            ]
          },
          "execution_count": 16,
          "metadata": {},
          "output_type": "execute_result"
        }
      ],
      "source": [
        "stock_data.shape"
      ]
    },
    {
      "cell_type": "code",
      "execution_count": 17,
      "metadata": {
        "id": "zZr9OE4AIMHI"
      },
      "outputs": [],
      "source": [
        "trained_data = pd.DataFrame(stock_data['Close'][:int(len(stock_data)*0.70)])\n",
        "test_data = pd.DataFrame(stock_data['Close'][int(len(stock_data)*0.70):])"
      ]
    },
    {
      "cell_type": "code",
      "execution_count": 18,
      "metadata": {
        "colab": {
          "base_uri": "https://localhost:8080/"
        },
        "id": "wWsFRhDEJXs4",
        "outputId": "3b8cc21b-cd69-47ac-b237-e53178abb6e8"
      },
      "outputs": [
        {
          "data": {
            "text/plain": [
              "(2290, 1)"
            ]
          },
          "execution_count": 18,
          "metadata": {},
          "output_type": "execute_result"
        }
      ],
      "source": [
        "trained_data.shape"
      ]
    },
    {
      "cell_type": "code",
      "execution_count": 19,
      "metadata": {
        "colab": {
          "base_uri": "https://localhost:8080/"
        },
        "id": "29MVq6tvJZuf",
        "outputId": "7daa5e4d-d144-4f35-eb57-814f07510c0d"
      },
      "outputs": [
        {
          "data": {
            "text/plain": [
              "(982, 1)"
            ]
          },
          "execution_count": 19,
          "metadata": {},
          "output_type": "execute_result"
        }
      ],
      "source": [
        "test_data.shape"
      ]
    },
    {
      "cell_type": "code",
      "execution_count": 20,
      "metadata": {
        "id": "OgrWA0RPJeL6"
      },
      "outputs": [],
      "source": [
        "scalar = MinMaxScaler(feature_range=(0,1))"
      ]
    },
    {
      "cell_type": "code",
      "execution_count": 21,
      "metadata": {
        "id": "T5ix3T43Kv2n"
      },
      "outputs": [],
      "source": [
        "transformed_train_data = scalar.fit_transform(trained_data)"
      ]
    },
    {
      "cell_type": "code",
      "execution_count": 22,
      "metadata": {
        "colab": {
          "base_uri": "https://localhost:8080/"
        },
        "id": "G8iifMvrNNJ3",
        "outputId": "0bc3337e-bf7d-4fdc-aeac-6dc83022beca"
      },
      "outputs": [
        {
          "data": {
            "text/plain": [
              "array([[0.01533047],\n",
              "       [0.01558878],\n",
              "       [0.01320823],\n",
              "       ...,\n",
              "       [0.71710501],\n",
              "       [0.71739828],\n",
              "       [0.70127194]])"
            ]
          },
          "execution_count": 22,
          "metadata": {},
          "output_type": "execute_result"
        }
      ],
      "source": [
        "transformed_train_data"
      ]
    },
    {
      "cell_type": "code",
      "execution_count": 23,
      "metadata": {
        "colab": {
          "base_uri": "https://localhost:8080/"
        },
        "id": "Advj8oW1LL9B",
        "outputId": "50198eb4-b19a-47ec-d9af-e8208ba7d469"
      },
      "outputs": [
        {
          "data": {
            "text/plain": [
              "(2290, 1)"
            ]
          },
          "execution_count": 23,
          "metadata": {},
          "output_type": "execute_result"
        }
      ],
      "source": [
        "transformed_train_data.shape"
      ]
    },
    {
      "cell_type": "code",
      "execution_count": 24,
      "metadata": {
        "id": "iTsx8iKdLORt"
      },
      "outputs": [],
      "source": [
        "X_train = []\n",
        "Y_train = []"
      ]
    },
    {
      "cell_type": "code",
      "execution_count": 25,
      "metadata": {
        "id": "ykS8B8-PMUYu"
      },
      "outputs": [],
      "source": [
        "for i in range(100,transformed_train_data.shape[0]):\n",
        "  X_train.append(transformed_train_data[i-100:i])\n",
        "  Y_train.append(transformed_train_data[i, 0])"
      ]
    },
    {
      "cell_type": "code",
      "execution_count": 26,
      "metadata": {
        "id": "YXLd6OBBMwxw"
      },
      "outputs": [],
      "source": [
        "X_train = np.array(X_train)\n",
        "Y_train = np.array(Y_train)"
      ]
    },
    {
      "cell_type": "code",
      "execution_count": 27,
      "metadata": {
        "colab": {
          "base_uri": "https://localhost:8080/"
        },
        "id": "AhPo_1fTM58a",
        "outputId": "e8b3b816-678d-4f41-aa7c-054988a6733b"
      },
      "outputs": [
        {
          "data": {
            "text/plain": [
              "(2190, 100, 1)"
            ]
          },
          "execution_count": 27,
          "metadata": {},
          "output_type": "execute_result"
        }
      ],
      "source": [
        "X_train.shape"
      ]
    },
    {
      "cell_type": "markdown",
      "metadata": {
        "id": "BTZ-sAlnHMUq"
      },
      "source": [
        "# **Training using the LSTM(Long Short Term Memory) Deep Learning Model**"
      ]
    },
    {
      "cell_type": "code",
      "execution_count": 28,
      "metadata": {
        "id": "u21rXbPKM_Bw"
      },
      "outputs": [
        {
          "name": "stdout",
          "output_type": "stream",
          "text": [
            "WARNING:tensorflow:From c:\\Users\\Harshavardhan Sathe\\anaconda3\\Lib\\site-packages\\keras\\src\\losses.py:2976: The name tf.losses.sparse_softmax_cross_entropy is deprecated. Please use tf.compat.v1.losses.sparse_softmax_cross_entropy instead.\n",
            "\n"
          ]
        }
      ],
      "source": [
        "from keras.layers import Dense,Dropout,LSTM\n",
        "from keras.models import Sequential"
      ]
    },
    {
      "cell_type": "code",
      "execution_count": 29,
      "metadata": {
        "id": "trbj9VmwHFZV"
      },
      "outputs": [
        {
          "name": "stdout",
          "output_type": "stream",
          "text": [
            "WARNING:tensorflow:From c:\\Users\\Harshavardhan Sathe\\anaconda3\\Lib\\site-packages\\keras\\src\\backend.py:873: The name tf.get_default_graph is deprecated. Please use tf.compat.v1.get_default_graph instead.\n",
            "\n"
          ]
        }
      ],
      "source": [
        "model = Sequential()\n",
        "model.add(LSTM(units=50, activation='relu',return_sequences=True,input_shape = (X_train.shape[1],1)))\n",
        "model.add(Dropout(0.2))"
      ]
    },
    {
      "cell_type": "code",
      "execution_count": 30,
      "metadata": {
        "id": "7gQPTOiAM3PF"
      },
      "outputs": [],
      "source": [
        "model.add(LSTM(units=60, activation='relu',return_sequences=True))\n",
        "model.add(Dropout(0.3))"
      ]
    },
    {
      "cell_type": "code",
      "execution_count": 31,
      "metadata": {
        "id": "-2srsIvUNtHO"
      },
      "outputs": [],
      "source": [
        "model.add(LSTM(units=80, activation='relu',return_sequences=True))\n",
        "model.add(Dropout(0.4))"
      ]
    },
    {
      "cell_type": "code",
      "execution_count": 32,
      "metadata": {
        "id": "55IbqBG-Ny91"
      },
      "outputs": [],
      "source": [
        "model.add(LSTM(units=120, activation='relu'))\n",
        "model.add(Dropout(0.5))"
      ]
    },
    {
      "cell_type": "code",
      "execution_count": 33,
      "metadata": {
        "id": "F7tLTlsdN8fv"
      },
      "outputs": [],
      "source": [
        "model.add(Dense(units=1))"
      ]
    },
    {
      "cell_type": "code",
      "execution_count": 34,
      "metadata": {
        "colab": {
          "base_uri": "https://localhost:8080/"
        },
        "id": "B9SaqQ7WOb-p",
        "outputId": "a00fb5ba-02a4-488d-e129-53b9785e438f"
      },
      "outputs": [
        {
          "name": "stdout",
          "output_type": "stream",
          "text": [
            "Model: \"sequential\"\n",
            "_________________________________________________________________\n",
            " Layer (type)                Output Shape              Param #   \n",
            "=================================================================\n",
            " lstm (LSTM)                 (None, 100, 50)           10400     \n",
            "                                                                 \n",
            " dropout (Dropout)           (None, 100, 50)           0         \n",
            "                                                                 \n",
            " lstm_1 (LSTM)               (None, 100, 60)           26640     \n",
            "                                                                 \n",
            " dropout_1 (Dropout)         (None, 100, 60)           0         \n",
            "                                                                 \n",
            " lstm_2 (LSTM)               (None, 100, 80)           45120     \n",
            "                                                                 \n",
            " dropout_2 (Dropout)         (None, 100, 80)           0         \n",
            "                                                                 \n",
            " lstm_3 (LSTM)               (None, 120)               96480     \n",
            "                                                                 \n",
            " dropout_3 (Dropout)         (None, 120)               0         \n",
            "                                                                 \n",
            " dense (Dense)               (None, 1)                 121       \n",
            "                                                                 \n",
            "=================================================================\n",
            "Total params: 178761 (698.29 KB)\n",
            "Trainable params: 178761 (698.29 KB)\n",
            "Non-trainable params: 0 (0.00 Byte)\n",
            "_________________________________________________________________\n"
          ]
        }
      ],
      "source": [
        "model.summary()"
      ]
    },
    {
      "cell_type": "code",
      "execution_count": 35,
      "metadata": {
        "colab": {
          "base_uri": "https://localhost:8080/"
        },
        "id": "pTqS17HGOhYY",
        "outputId": "c22f1213-5ec5-4115-b41e-02680ffca114"
      },
      "outputs": [
        {
          "name": "stdout",
          "output_type": "stream",
          "text": [
            "WARNING:tensorflow:From c:\\Users\\Harshavardhan Sathe\\anaconda3\\Lib\\site-packages\\keras\\src\\optimizers\\__init__.py:309: The name tf.train.Optimizer is deprecated. Please use tf.compat.v1.train.Optimizer instead.\n",
            "\n",
            "Epoch 1/50\n",
            "WARNING:tensorflow:From c:\\Users\\Harshavardhan Sathe\\anaconda3\\Lib\\site-packages\\keras\\src\\utils\\tf_utils.py:492: The name tf.ragged.RaggedTensorValue is deprecated. Please use tf.compat.v1.ragged.RaggedTensorValue instead.\n",
            "\n",
            "69/69 [==============================] - 11s 100ms/step - loss: 0.0317\n",
            "Epoch 2/50\n",
            "69/69 [==============================] - 7s 98ms/step - loss: 0.0071\n",
            "Epoch 3/50\n",
            "69/69 [==============================] - 7s 98ms/step - loss: 0.0050\n",
            "Epoch 4/50\n",
            "69/69 [==============================] - 7s 104ms/step - loss: 0.0057\n",
            "Epoch 5/50\n",
            "69/69 [==============================] - 8s 110ms/step - loss: 0.0050\n",
            "Epoch 6/50\n",
            "69/69 [==============================] - 8s 112ms/step - loss: 0.0039\n",
            "Epoch 7/50\n",
            "69/69 [==============================] - 8s 109ms/step - loss: 0.0047\n",
            "Epoch 8/50\n",
            "69/69 [==============================] - 8s 110ms/step - loss: 0.0041\n",
            "Epoch 9/50\n",
            "69/69 [==============================] - 7s 108ms/step - loss: 0.0038\n",
            "Epoch 10/50\n",
            "69/69 [==============================] - 7s 105ms/step - loss: 0.0038\n",
            "Epoch 11/50\n",
            "69/69 [==============================] - 7s 102ms/step - loss: 0.0033\n",
            "Epoch 12/50\n",
            "69/69 [==============================] - 7s 103ms/step - loss: 0.0036\n",
            "Epoch 13/50\n",
            "69/69 [==============================] - 8s 116ms/step - loss: 0.0033\n",
            "Epoch 14/50\n",
            "69/69 [==============================] - 7s 99ms/step - loss: 0.0032\n",
            "Epoch 15/50\n",
            "69/69 [==============================] - 8s 109ms/step - loss: 0.0033\n",
            "Epoch 16/50\n",
            "69/69 [==============================] - 7s 99ms/step - loss: 0.0028\n",
            "Epoch 17/50\n",
            "69/69 [==============================] - 7s 101ms/step - loss: 0.0027\n",
            "Epoch 18/50\n",
            "69/69 [==============================] - 7s 107ms/step - loss: 0.0026\n",
            "Epoch 19/50\n",
            "69/69 [==============================] - 8s 112ms/step - loss: 0.0029\n",
            "Epoch 20/50\n",
            "69/69 [==============================] - 8s 112ms/step - loss: 0.0026\n",
            "Epoch 21/50\n",
            "69/69 [==============================] - 8s 112ms/step - loss: 0.0023\n",
            "Epoch 22/50\n",
            "69/69 [==============================] - 8s 112ms/step - loss: 0.0025\n",
            "Epoch 23/50\n",
            "69/69 [==============================] - 8s 112ms/step - loss: 0.0027\n",
            "Epoch 24/50\n",
            "69/69 [==============================] - 8s 113ms/step - loss: 0.0022\n",
            "Epoch 25/50\n",
            "69/69 [==============================] - 8s 114ms/step - loss: 0.0026\n",
            "Epoch 26/50\n",
            "69/69 [==============================] - 8s 108ms/step - loss: 0.0021\n",
            "Epoch 27/50\n",
            "69/69 [==============================] - 8s 110ms/step - loss: 0.0021\n",
            "Epoch 28/50\n",
            "69/69 [==============================] - 8s 110ms/step - loss: 0.0024\n",
            "Epoch 29/50\n",
            "69/69 [==============================] - 8s 110ms/step - loss: 0.0021\n",
            "Epoch 30/50\n",
            "69/69 [==============================] - 8s 109ms/step - loss: 0.0020\n",
            "Epoch 31/50\n",
            "69/69 [==============================] - 7s 108ms/step - loss: 0.0020\n",
            "Epoch 32/50\n",
            "69/69 [==============================] - 8s 111ms/step - loss: 0.0019\n",
            "Epoch 33/50\n",
            "69/69 [==============================] - 7s 101ms/step - loss: 0.0018\n",
            "Epoch 34/50\n",
            "69/69 [==============================] - 7s 108ms/step - loss: 0.0018\n",
            "Epoch 35/50\n",
            "69/69 [==============================] - 7s 108ms/step - loss: 0.0020\n",
            "Epoch 36/50\n",
            "69/69 [==============================] - 7s 108ms/step - loss: 0.0020\n",
            "Epoch 37/50\n",
            "69/69 [==============================] - 8s 109ms/step - loss: 0.0020\n",
            "Epoch 38/50\n",
            "69/69 [==============================] - 7s 108ms/step - loss: 0.0020\n",
            "Epoch 39/50\n",
            "69/69 [==============================] - 7s 108ms/step - loss: 0.0018\n",
            "Epoch 40/50\n",
            "69/69 [==============================] - 7s 108ms/step - loss: 0.0017\n",
            "Epoch 41/50\n",
            "69/69 [==============================] - 7s 108ms/step - loss: 0.0018\n",
            "Epoch 42/50\n",
            "69/69 [==============================] - 8s 109ms/step - loss: 0.0016\n",
            "Epoch 43/50\n",
            "69/69 [==============================] - 7s 106ms/step - loss: 0.0017\n",
            "Epoch 44/50\n",
            "69/69 [==============================] - 7s 99ms/step - loss: 0.0018\n",
            "Epoch 45/50\n",
            "69/69 [==============================] - 7s 99ms/step - loss: 0.0020\n",
            "Epoch 46/50\n",
            "69/69 [==============================] - 7s 98ms/step - loss: 0.0016\n",
            "Epoch 47/50\n",
            "69/69 [==============================] - 7s 99ms/step - loss: 0.0017\n",
            "Epoch 48/50\n",
            "69/69 [==============================] - 7s 101ms/step - loss: 0.0018\n",
            "Epoch 49/50\n",
            "69/69 [==============================] - 7s 98ms/step - loss: 0.0017\n",
            "Epoch 50/50\n",
            "69/69 [==============================] - 7s 101ms/step - loss: 0.0019\n"
          ]
        },
        {
          "data": {
            "text/plain": [
              "<keras.src.callbacks.History at 0x1d03b4c5710>"
            ]
          },
          "execution_count": 35,
          "metadata": {},
          "output_type": "execute_result"
        }
      ],
      "source": [
        "model.compile(optimizer='adam',loss='mean_squared_error')\n",
        "model.fit(X_train,Y_train,epochs=50)"
      ]
    },
    {
      "cell_type": "code",
      "execution_count": 36,
      "metadata": {
        "colab": {
          "base_uri": "https://localhost:8080/"
        },
        "id": "-3XK5_o5PCvT",
        "outputId": "ca053d9c-c551-46c6-ed73-e69f5cb408e0"
      },
      "outputs": [
        {
          "name": "stderr",
          "output_type": "stream",
          "text": [
            "c:\\Users\\Harshavardhan Sathe\\anaconda3\\Lib\\site-packages\\keras\\src\\engine\\training.py:3103: UserWarning: You are saving your model as an HDF5 file via `model.save()`. This file format is considered legacy. We recommend using instead the native Keras format, e.g. `model.save('my_model.keras')`.\n",
            "  saving_api.save_model(\n"
          ]
        }
      ],
      "source": [
        "model.save('lstm.h5')"
      ]
    },
    {
      "cell_type": "code",
      "execution_count": 37,
      "metadata": {
        "colab": {
          "base_uri": "https://localhost:8080/",
          "height": 206
        },
        "id": "fJ3fqLBxRCWC",
        "outputId": "92e992cd-73fc-4d95-9bc2-1ced57207e62"
      },
      "outputs": [
        {
          "data": {
            "text/html": [
              "<div>\n",
              "<style scoped>\n",
              "    .dataframe tbody tr th:only-of-type {\n",
              "        vertical-align: middle;\n",
              "    }\n",
              "\n",
              "    .dataframe tbody tr th {\n",
              "        vertical-align: top;\n",
              "    }\n",
              "\n",
              "    .dataframe thead th {\n",
              "        text-align: right;\n",
              "    }\n",
              "</style>\n",
              "<table border=\"1\" class=\"dataframe\">\n",
              "  <thead>\n",
              "    <tr style=\"text-align: right;\">\n",
              "      <th></th>\n",
              "      <th>Close</th>\n",
              "    </tr>\n",
              "  </thead>\n",
              "  <tbody>\n",
              "    <tr>\n",
              "      <th>2290</th>\n",
              "      <td>42.602501</td>\n",
              "    </tr>\n",
              "    <tr>\n",
              "      <th>2291</th>\n",
              "      <td>42.357498</td>\n",
              "    </tr>\n",
              "    <tr>\n",
              "      <th>2292</th>\n",
              "      <td>42.722500</td>\n",
              "    </tr>\n",
              "    <tr>\n",
              "      <th>2293</th>\n",
              "      <td>42.544998</td>\n",
              "    </tr>\n",
              "    <tr>\n",
              "      <th>2294</th>\n",
              "      <td>42.700001</td>\n",
              "    </tr>\n",
              "  </tbody>\n",
              "</table>\n",
              "</div>"
            ],
            "text/plain": [
              "          Close\n",
              "2290  42.602501\n",
              "2291  42.357498\n",
              "2292  42.722500\n",
              "2293  42.544998\n",
              "2294  42.700001"
            ]
          },
          "execution_count": 37,
          "metadata": {},
          "output_type": "execute_result"
        }
      ],
      "source": [
        "test_data.head()"
      ]
    },
    {
      "cell_type": "code",
      "execution_count": 38,
      "metadata": {
        "id": "50h50DtFRQdW"
      },
      "outputs": [],
      "source": [
        "past_100_days = trained_data.tail(100)"
      ]
    },
    {
      "cell_type": "code",
      "execution_count": 39,
      "metadata": {
        "colab": {
          "base_uri": "https://localhost:8080/"
        },
        "id": "-IjxuhaNRcuM",
        "outputId": "56df8c16-d54c-4aa6-8446-d13bb0860d5e"
      },
      "outputs": [
        {
          "name": "stderr",
          "output_type": "stream",
          "text": [
            "C:\\Users\\Harshavardhan Sathe\\AppData\\Local\\Temp\\ipykernel_23260\\3855878123.py:1: FutureWarning: The frame.append method is deprecated and will be removed from pandas in a future version. Use pandas.concat instead.\n",
            "  final = past_100_days.append(test_data,ignore_index=True)\n"
          ]
        }
      ],
      "source": [
        "final = past_100_days.append(test_data,ignore_index=True)"
      ]
    },
    {
      "cell_type": "code",
      "execution_count": 40,
      "metadata": {
        "colab": {
          "base_uri": "https://localhost:8080/",
          "height": 206
        },
        "id": "xdHrbNoeRpZr",
        "outputId": "c27e08a6-c4e5-4a68-cee7-69ba19be84b6"
      },
      "outputs": [
        {
          "data": {
            "text/html": [
              "<div>\n",
              "<style scoped>\n",
              "    .dataframe tbody tr th:only-of-type {\n",
              "        vertical-align: middle;\n",
              "    }\n",
              "\n",
              "    .dataframe tbody tr th {\n",
              "        vertical-align: top;\n",
              "    }\n",
              "\n",
              "    .dataframe thead th {\n",
              "        text-align: right;\n",
              "    }\n",
              "</style>\n",
              "<table border=\"1\" class=\"dataframe\">\n",
              "  <thead>\n",
              "    <tr style=\"text-align: right;\">\n",
              "      <th></th>\n",
              "      <th>Close</th>\n",
              "    </tr>\n",
              "  </thead>\n",
              "  <tbody>\n",
              "    <tr>\n",
              "      <th>0</th>\n",
              "      <td>55.959999</td>\n",
              "    </tr>\n",
              "    <tr>\n",
              "      <th>1</th>\n",
              "      <td>54.470001</td>\n",
              "    </tr>\n",
              "    <tr>\n",
              "      <th>2</th>\n",
              "      <td>54.560001</td>\n",
              "    </tr>\n",
              "    <tr>\n",
              "      <th>3</th>\n",
              "      <td>54.592499</td>\n",
              "    </tr>\n",
              "    <tr>\n",
              "      <th>4</th>\n",
              "      <td>55.007500</td>\n",
              "    </tr>\n",
              "  </tbody>\n",
              "</table>\n",
              "</div>"
            ],
            "text/plain": [
              "       Close\n",
              "0  55.959999\n",
              "1  54.470001\n",
              "2  54.560001\n",
              "3  54.592499\n",
              "4  55.007500"
            ]
          },
          "execution_count": 40,
          "metadata": {},
          "output_type": "execute_result"
        }
      ],
      "source": [
        "final.head()"
      ]
    },
    {
      "cell_type": "code",
      "execution_count": 41,
      "metadata": {
        "id": "ewvFwkcDRvB9"
      },
      "outputs": [],
      "source": [
        "input_data = scalar.fit_transform(final)"
      ]
    },
    {
      "cell_type": "code",
      "execution_count": 42,
      "metadata": {
        "colab": {
          "base_uri": "https://localhost:8080/"
        },
        "id": "tEcCfwJTR9YI",
        "outputId": "195ec795-847e-42e0-9d79-00f133460be8"
      },
      "outputs": [
        {
          "data": {
            "text/plain": [
              "(1082, 1)"
            ]
          },
          "execution_count": 42,
          "metadata": {},
          "output_type": "execute_result"
        }
      ],
      "source": [
        "input_data.shape"
      ]
    },
    {
      "cell_type": "code",
      "execution_count": 43,
      "metadata": {
        "id": "6umWB6tCSEnj"
      },
      "outputs": [],
      "source": [
        "X_test = []\n",
        "Y_test = []"
      ]
    },
    {
      "cell_type": "code",
      "execution_count": 44,
      "metadata": {
        "id": "OG46Q1kwSNSX"
      },
      "outputs": [],
      "source": [
        "for i in range(100,input_data.shape[0]):\n",
        "  X_test.append(input_data[i-100:i])\n",
        "  Y_test.append(input_data[i, 0])"
      ]
    },
    {
      "cell_type": "code",
      "execution_count": 45,
      "metadata": {
        "id": "batKYdyASj4z"
      },
      "outputs": [],
      "source": [
        "X_test = np.array(X_test)\n",
        "Y_test = np.array(Y_test)"
      ]
    },
    {
      "cell_type": "code",
      "execution_count": 46,
      "metadata": {
        "colab": {
          "base_uri": "https://localhost:8080/"
        },
        "id": "5lNoZi9WTUln",
        "outputId": "a71609ac-0ad5-4e1d-c85a-2edb80861a08"
      },
      "outputs": [
        {
          "name": "stdout",
          "output_type": "stream",
          "text": [
            "(982, 100, 1)\n",
            "(982,)\n"
          ]
        }
      ],
      "source": [
        "print(X_test.shape)\n",
        "print(Y_test.shape)"
      ]
    },
    {
      "cell_type": "markdown",
      "metadata": {
        "id": "sFO8AnyXTekR"
      },
      "source": [
        "# ***Predictions***"
      ]
    },
    {
      "cell_type": "code",
      "execution_count": 47,
      "metadata": {
        "colab": {
          "base_uri": "https://localhost:8080/"
        },
        "id": "PUfcNjC5TXxV",
        "outputId": "3170416d-e81b-41c7-e2c4-98dab522bb5d"
      },
      "outputs": [
        {
          "name": "stdout",
          "output_type": "stream",
          "text": [
            "31/31 [==============================] - 2s 33ms/step\n"
          ]
        }
      ],
      "source": [
        "Y_predict = model.predict(X_test)"
      ]
    },
    {
      "cell_type": "code",
      "execution_count": 48,
      "metadata": {
        "colab": {
          "base_uri": "https://localhost:8080/"
        },
        "id": "hBGO7MFOTxzv",
        "outputId": "a3f51460-149b-472a-960e-bee4ed91f87d"
      },
      "outputs": [
        {
          "data": {
            "text/plain": [
              "(982, 1)"
            ]
          },
          "execution_count": 48,
          "metadata": {},
          "output_type": "execute_result"
        }
      ],
      "source": [
        "Y_predict.shape"
      ]
    },
    {
      "cell_type": "code",
      "execution_count": 49,
      "metadata": {
        "id": "FMPdRXhhT2IG"
      },
      "outputs": [],
      "source": [
        "factor = scalar.scale_"
      ]
    },
    {
      "cell_type": "code",
      "execution_count": 50,
      "metadata": {
        "id": "pL2ogy-FUGLE"
      },
      "outputs": [],
      "source": [
        "factor = 1/0.00682769"
      ]
    },
    {
      "cell_type": "code",
      "execution_count": 51,
      "metadata": {
        "id": "lQZkpnNnUIR3"
      },
      "outputs": [],
      "source": [
        "Y_predict = Y_predict * factor\n",
        "Y_test = Y_test * factor"
      ]
    },
    {
      "cell_type": "code",
      "execution_count": 52,
      "metadata": {
        "colab": {
          "base_uri": "https://localhost:8080/",
          "height": 559
        },
        "id": "Dp24V4qQUXnA",
        "outputId": "191ba027-92b8-46f2-c1ec-65aa80d8876a"
      },
      "outputs": [
        {
          "data": {
            "text/plain": [
              "<matplotlib.legend.Legend at 0x1d03ef3f5d0>"
            ]
          },
          "execution_count": 52,
          "metadata": {},
          "output_type": "execute_result"
        },
        {
          "data": {
            "image/png": "[encoded data removed]",
            "text/plain": [
              "<Figure size 1000x600 with 1 Axes>"
            ]
          },
          "metadata": {},
          "output_type": "display_data"
        }
      ],
      "source": [
        "plt.figure(figsize = (10,6))\n",
        "plt.plot(Y_test,c = 'r',label = 'Original Price')\n",
        "plt.plot(Y_predict,c = 'g',label = 'Predicted Price')\n",
        "plt.xlabel('Time')\n",
        "plt.ylabel('Close Price')\n",
        "plt.legend()"
      ]
    },
    {
      "cell_type": "code",
      "execution_count": null,
      "metadata": {
        "id": "krLtewu4UyVJ"
      },
      "outputs": [],
      "source": []
    }
  ],
  "metadata": {
    "colab": {
      "provenance": []
    },
    "kernelspec": {
      "display_name": "Python 3",
      "name": "python3"
    },
    "language_info": {
      "codemirror_mode": {
        "name": "ipython",
        "version": 3
      },
      "file_extension": ".py",
      "mimetype": "text/x-python",
      "name": "python",
      "nbconvert_exporter": "python",
      "pygments_lexer": "ipython3",
      "version": "3.11.3"
    }
  },
  "nbformat": 4,
  "nbformat_minor": 0
}
